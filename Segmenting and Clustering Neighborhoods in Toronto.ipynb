{
    "nbformat_minor": 1, 
    "cells": [
        {
            "source": "This notebook is apart of the IBM Data Science Capstone on Coursera. The goal is to segment and cluster different neighborhoods in Toronto. I do this by scraping web data from wikipedia about different boroughs and then access the foursquare API to explore different places within those boroughs for the cluster analysis.", 
            "cell_type": "markdown", 
            "metadata": {}
        }, 
        {
            "execution_count": 120, 
            "cell_type": "code", 
            "metadata": {}, 
            "outputs": [], 
            "source": "# webscraping\nfrom bs4 import BeautifulSoup as soup\nfrom urllib.request import urlopen as ureq\n\nimport pandas as pd\n\n# for gathering latitude and longitude\nfrom geopy.geocoders import Nominatim\n\n# for progress bar (current latitude, longitude processing is kind of slow)\nfrom tqdm import tqdm"
        }, 
        {
            "execution_count": 121, 
            "cell_type": "code", 
            "metadata": {}, 
            "outputs": [], 
            "source": "url = \"https://en.wikipedia.org/wiki/List_of_postal_codes_of_Canada:_M\""
        }, 
        {
            "execution_count": 122, 
            "cell_type": "code", 
            "metadata": {}, 
            "outputs": [], 
            "source": "# open connection and grab page\nuClient = ureq(url)"
        }, 
        {
            "execution_count": 123, 
            "cell_type": "code", 
            "metadata": {}, 
            "outputs": [], 
            "source": "html = uClient.read()\n"
        }, 
        {
            "execution_count": 124, 
            "cell_type": "code", 
            "metadata": {}, 
            "outputs": [], 
            "source": "uClient.close()"
        }, 
        {
            "execution_count": 125, 
            "cell_type": "code", 
            "metadata": {}, 
            "outputs": [], 
            "source": "# parse html\nsoup = soup(html, \"html.parser\")"
        }, 
        {
            "execution_count": 126, 
            "cell_type": "code", 
            "metadata": {}, 
            "outputs": [], 
            "source": "df_dict = {\"PostalCode\":[], \"Borough\":[], \"Neighborhoods\":[]}\nfor tr in soup.find_all('tr'):\n    tds = tr.find_all('td')\n    br = False\n    for td in tds:\n        # make sure we are still in the main table\n        if td.b is None or td.b.text[0] != 'M':\n            br = True\n            break\n        # make sure postal code is assigned\n        curr_td_code = td.b.text\n        if td.span is not None:\n            txt = td.span.text\n            spl = txt.strip(\")\").split(\"(\")\n            borough = spl[0]\n            \n            # special case\n            if borough == \"Queen's Park\\n\":\n                #print(\"q's park\")\n                df_dict[\"PostalCode\"].append(td.findAll('b')[0].text)\n                df_dict[\"Borough\"].append(\"Queen's Park\")\n                df_dict[\"Neighborhoods\"].append([td.findAll('b')[1].text])\n            \n            elif borough != 'Not assigned':\n                df_dict[\"PostalCode\"].append(td.b.text)\n                # special cases (makes lat, long processing smoother)\n                if td.b.text == \"M4J\":\n                    df_dict[\"Borough\"].append(\"East York\")\n                elif td.b.text == \"M7R\":\n                    df_dict[\"Borough\"].append(\"Mississauga\")\n                elif td.b.text == \"M5W\":\n                    df_dict[\"Borough\"].append(\"Downtown Toronto\")\n                elif td.b.text == \"M7Y\":\n                    df_dict[\"Borough\"].append(\"East Toronto\")\n                elif td.b.text == \"M9W\":\n                    df_dict[\"Borough\"].append(\"Etobicoke\")\n                else:\n                    df_dict[\"Borough\"].append(borough)\n                neighborhoods = []\n                # for loop because some cells have multiple paranethesis \n                for i in range(1,len(spl)):\n                    hoods = spl[i].replace(\")\", \" \").replace(\",\", \"/\").split(\"/\")\n                    for hood in hoods:\n                        neighborhoods.append(hood.strip())\n                df_dict[\"Neighborhoods\"].append(neighborhoods)\n    # abort mission once we leave the main table\n    if br:\n        break"
        }, 
        {
            "execution_count": 127, 
            "cell_type": "code", 
            "metadata": {}, 
            "outputs": [
                {
                    "execution_count": 127, 
                    "metadata": {}, 
                    "data": {
                        "text/html": "<div>\n<style scoped>\n    .dataframe tbody tr th:only-of-type {\n        vertical-align: middle;\n    }\n\n    .dataframe tbody tr th {\n        vertical-align: top;\n    }\n\n    .dataframe thead th {\n        text-align: right;\n    }\n</style>\n<table border=\"1\" class=\"dataframe\">\n  <thead>\n    <tr style=\"text-align: right;\">\n      <th></th>\n      <th>PostalCode</th>\n      <th>Borough</th>\n      <th>Neighborhoods</th>\n    </tr>\n  </thead>\n  <tbody>\n    <tr>\n      <th>0</th>\n      <td>M3A</td>\n      <td>North York</td>\n      <td>[Parkwoods]</td>\n    </tr>\n    <tr>\n      <th>1</th>\n      <td>M4A</td>\n      <td>North York</td>\n      <td>[Victoria Village]</td>\n    </tr>\n    <tr>\n      <th>2</th>\n      <td>M5A</td>\n      <td>Downtown Toronto</td>\n      <td>[Regent Park, Harbourfront]</td>\n    </tr>\n    <tr>\n      <th>3</th>\n      <td>M6A</td>\n      <td>North York</td>\n      <td>[Lawrence Manor, Lawrence Heights]</td>\n    </tr>\n    <tr>\n      <th>4</th>\n      <td>M7A</td>\n      <td>Queen's Park</td>\n      <td>[Ontario Provincial Government]</td>\n    </tr>\n  </tbody>\n</table>\n</div>", 
                        "text/plain": "  PostalCode           Borough                       Neighborhoods\n0        M3A        North York                         [Parkwoods]\n1        M4A        North York                  [Victoria Village]\n2        M5A  Downtown Toronto         [Regent Park, Harbourfront]\n3        M6A        North York  [Lawrence Manor, Lawrence Heights]\n4        M7A      Queen's Park     [Ontario Provincial Government]"
                    }, 
                    "output_type": "execute_result"
                }
            ], 
            "source": "df = pd.DataFrame.from_dict(df_dict)\ndf = df.reindex(columns=[\"PostalCode\", \"Borough\", \"Neighborhoods\"])\ndf.head()"
        }, 
        {
            "execution_count": 128, 
            "cell_type": "code", 
            "metadata": {}, 
            "outputs": [
                {
                    "execution_count": 128, 
                    "metadata": {}, 
                    "data": {
                        "text/plain": "(103, 3)"
                    }, 
                    "output_type": "execute_result"
                }
            ], 
            "source": "df.shape"
        }, 
        {
            "execution_count": 129, 
            "cell_type": "code", 
            "metadata": {}, 
            "outputs": [
                {
                    "output_type": "stream", 
                    "name": "stderr", 
                    "text": "100%|\u2588\u2588\u2588\u2588\u2588\u2588\u2588\u2588\u2588\u2588| 103/103 [01:17<00:00,  1.22it/s]\n"
                }, 
                {
                    "execution_count": 129, 
                    "metadata": {}, 
                    "data": {
                        "text/html": "<div>\n<style scoped>\n    .dataframe tbody tr th:only-of-type {\n        vertical-align: middle;\n    }\n\n    .dataframe tbody tr th {\n        vertical-align: top;\n    }\n\n    .dataframe thead th {\n        text-align: right;\n    }\n</style>\n<table border=\"1\" class=\"dataframe\">\n  <thead>\n    <tr style=\"text-align: right;\">\n      <th></th>\n      <th>PostalCode</th>\n      <th>Borough</th>\n      <th>Neighborhoods</th>\n      <th>Latitiude</th>\n      <th>Longitude</th>\n    </tr>\n  </thead>\n  <tbody>\n    <tr>\n      <th>0</th>\n      <td>M3A</td>\n      <td>North York</td>\n      <td>[Parkwoods]</td>\n      <td>43.761224</td>\n      <td>-79.323986</td>\n    </tr>\n    <tr>\n      <th>1</th>\n      <td>M4A</td>\n      <td>North York</td>\n      <td>[Victoria Village]</td>\n      <td>43.732658</td>\n      <td>-79.311189</td>\n    </tr>\n    <tr>\n      <th>2</th>\n      <td>M5A</td>\n      <td>Downtown Toronto</td>\n      <td>[Regent Park, Harbourfront]</td>\n      <td>43.661752</td>\n      <td>-79.356840</td>\n    </tr>\n    <tr>\n      <th>3</th>\n      <td>M6A</td>\n      <td>North York</td>\n      <td>[Lawrence Manor, Lawrence Heights]</td>\n      <td>43.722079</td>\n      <td>-79.437507</td>\n    </tr>\n    <tr>\n      <th>4</th>\n      <td>M7A</td>\n      <td>Queen's Park</td>\n      <td>[Ontario Provincial Government]</td>\n      <td>43.659980</td>\n      <td>-79.390369</td>\n    </tr>\n    <tr>\n      <th>5</th>\n      <td>M9A</td>\n      <td>Etobicoke</td>\n      <td>[Islington Avenue]</td>\n      <td>43.714904</td>\n      <td>-79.554973</td>\n    </tr>\n    <tr>\n      <th>6</th>\n      <td>M1B</td>\n      <td>Scarborough</td>\n      <td>[Malvern, Rouge]</td>\n      <td>43.809196</td>\n      <td>-79.221701</td>\n    </tr>\n    <tr>\n      <th>7</th>\n      <td>M3B</td>\n      <td>North York</td>\n      <td>[Don Mills North]</td>\n      <td>43.737178</td>\n      <td>-79.343451</td>\n    </tr>\n    <tr>\n      <th>8</th>\n      <td>M4B</td>\n      <td>East York</td>\n      <td>[Parkview Hill, Woodbine Gardens]</td>\n      <td>43.712078</td>\n      <td>-79.302567</td>\n    </tr>\n    <tr>\n      <th>9</th>\n      <td>M5B</td>\n      <td>Downtown Toronto</td>\n      <td>[Garden District, Ryerson]</td>\n      <td>43.652722</td>\n      <td>-79.376828</td>\n    </tr>\n  </tbody>\n</table>\n</div>", 
                        "text/plain": "  PostalCode           Borough                       Neighborhoods  Latitiude  \\\n0        M3A        North York                         [Parkwoods]  43.761224   \n1        M4A        North York                  [Victoria Village]  43.732658   \n2        M5A  Downtown Toronto         [Regent Park, Harbourfront]  43.661752   \n3        M6A        North York  [Lawrence Manor, Lawrence Heights]  43.722079   \n4        M7A      Queen's Park     [Ontario Provincial Government]  43.659980   \n5        M9A         Etobicoke                  [Islington Avenue]  43.714904   \n6        M1B       Scarborough                    [Malvern, Rouge]  43.809196   \n7        M3B        North York                   [Don Mills North]  43.737178   \n8        M4B         East York   [Parkview Hill, Woodbine Gardens]  43.712078   \n9        M5B  Downtown Toronto          [Garden District, Ryerson]  43.652722   \n\n   Longitude  \n0 -79.323986  \n1 -79.311189  \n2 -79.356840  \n3 -79.437507  \n4 -79.390369  \n5 -79.554973  \n6 -79.221701  \n7 -79.343451  \n8 -79.302567  \n9 -79.376828  "
                    }, 
                    "output_type": "execute_result"
                }
            ], 
            "source": "lats = []\nlongs = []\ngeolocator = Nominatim(user_agent=\"GeocodeEarth\")\nwith tqdm(total=len(list(df.iterrows()))) as pbar:\n    for index,row in df.iterrows():\n        pbar.update(1)\n        if row['Borough'] == \"Queen's Park\":\n            location = geolocator.geocode(\"Queen's Park, Toronto\")\n        else:\n            for i in range(len(row['Neighborhoods'])):\n                location = geolocator.geocode(row['Borough'] + ', ' + row['Neighborhoods'][i])\n                if location != None:\n                    break\n            if location == None:\n                location = geolocator.geocode(row['Borough'] + ', Toronto')\n        #print(index, location.address)\n        lats.append(location.latitude)\n        longs.append(location.longitude)\n    \ndf[\"Latitiude\"] = lats\ndf[\"Longitude\"] = longs\ndf.head(10)"
        }, 
        {
            "execution_count": null, 
            "cell_type": "code", 
            "metadata": {}, 
            "outputs": [], 
            "source": ""
        }
    ], 
    "metadata": {
        "kernelspec": {
            "display_name": "Python 3.5", 
            "name": "python3", 
            "language": "python"
        }, 
        "language_info": {
            "mimetype": "text/x-python", 
            "nbconvert_exporter": "python", 
            "version": "3.5.5", 
            "name": "python", 
            "file_extension": ".py", 
            "pygments_lexer": "ipython3", 
            "codemirror_mode": {
                "version": 3, 
                "name": "ipython"
            }
        }
    }, 
    "nbformat": 4
}