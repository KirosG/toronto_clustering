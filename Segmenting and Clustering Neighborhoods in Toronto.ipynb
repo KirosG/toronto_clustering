{
    "nbformat_minor": 1, 
    "cells": [
        {
            "source": "This notebook is apart of the IBM Data Science Capstone on Coursera. The goal is to segment and cluster different neighborhoods in Toronto. I do this by scraping web data from wikipedia about different boroughs and then access the foursquare API to explore different places within those boroughs for the cluster analysis.", 
            "cell_type": "markdown", 
            "metadata": {}
        }, 
        {
            "execution_count": 110, 
            "cell_type": "code", 
            "metadata": {}, 
            "outputs": [], 
            "source": "from bs4 import BeautifulSoup as soup\nfrom urllib.request import urlopen as ureq\n\nimport pandas as pd"
        }, 
        {
            "execution_count": 111, 
            "cell_type": "code", 
            "metadata": {}, 
            "outputs": [], 
            "source": "url = \"https://en.wikipedia.org/wiki/List_of_postal_codes_of_Canada:_M\""
        }, 
        {
            "execution_count": 112, 
            "cell_type": "code", 
            "metadata": {}, 
            "outputs": [], 
            "source": "# open connection and grab page\nuClient = ureq(url)"
        }, 
        {
            "execution_count": 113, 
            "cell_type": "code", 
            "metadata": {}, 
            "outputs": [], 
            "source": "html = uClient.read()\n"
        }, 
        {
            "execution_count": 114, 
            "cell_type": "code", 
            "metadata": {}, 
            "outputs": [], 
            "source": "uClient.close()"
        }, 
        {
            "execution_count": 115, 
            "cell_type": "code", 
            "metadata": {}, 
            "outputs": [], 
            "source": "# parse html\nsoup = soup(html, \"html.parser\")"
        }, 
        {
            "execution_count": 116, 
            "cell_type": "code", 
            "metadata": {}, 
            "outputs": [], 
            "source": "df_dict = {\"PostalCode\":[], \"Borough\":[], \"Neighborhoods\":[]}\nfor tr in soup.find_all('tr'):\n    tds = tr.find_all('td')\n    br = False\n    for td in tds:\n        # make sure we are still in the main table\n        if td.b is None or td.b.text[0] != 'M':\n            br = True\n            break\n        # make sure postal code is assigned\n        curr_td_code = td.b.text\n        if td.span is not None:\n            txt = td.span.text\n            spl = txt.strip(\")\").split(\"(\")\n            borough = spl[0]\n            \n            # special case\n            if borough == \"Queen's Park\\n\":\n                #print(\"q's park\")\n                df_dict[\"PostalCode\"].append(td.findAll('b')[0].text)\n                df_dict[\"Borough\"].append(\"Queen's Park\")\n                df_dict[\"Neighborhoods\"].append([td.findAll('b')[1].text])\n            \n            elif borough != 'Not assigned':\n                df_dict[\"PostalCode\"].append(td.b.text)\n                df_dict[\"Borough\"].append(borough)\n                \n                neighborhoods = []\n                # for loop because some cells have multiple paranethesis \n                for i in range(1,len(spl)):\n                    hoods = spl[i].replace(\")\", \" \").replace(\",\", \"/\").split(\"/\")\n                    for hood in hoods:\n                        neighborhoods.append(hood.strip())\n                df_dict[\"Neighborhoods\"].append(neighborhoods)\n    # abort mission once we leave the main table\n    if br:\n        break"
        }, 
        {
            "execution_count": 117, 
            "cell_type": "code", 
            "metadata": {}, 
            "outputs": [
                {
                    "execution_count": 117, 
                    "metadata": {}, 
                    "data": {
                        "text/html": "<div>\n<style scoped>\n    .dataframe tbody tr th:only-of-type {\n        vertical-align: middle;\n    }\n\n    .dataframe tbody tr th {\n        vertical-align: top;\n    }\n\n    .dataframe thead th {\n        text-align: right;\n    }\n</style>\n<table border=\"1\" class=\"dataframe\">\n  <thead>\n    <tr style=\"text-align: right;\">\n      <th></th>\n      <th>PostalCode</th>\n      <th>Borough</th>\n      <th>Neighborhoods</th>\n    </tr>\n  </thead>\n  <tbody>\n    <tr>\n      <th>0</th>\n      <td>M3A</td>\n      <td>North York</td>\n      <td>[Parkwoods]</td>\n    </tr>\n    <tr>\n      <th>1</th>\n      <td>M4A</td>\n      <td>North York</td>\n      <td>[Victoria Village]</td>\n    </tr>\n    <tr>\n      <th>2</th>\n      <td>M5A</td>\n      <td>Downtown Toronto</td>\n      <td>[Regent Park, Harbourfront]</td>\n    </tr>\n    <tr>\n      <th>3</th>\n      <td>M6A</td>\n      <td>North York</td>\n      <td>[Lawrence Manor, Lawrence Heights]</td>\n    </tr>\n    <tr>\n      <th>4</th>\n      <td>M7A</td>\n      <td>Queen's Park</td>\n      <td>[Ontario Provincial Government]</td>\n    </tr>\n  </tbody>\n</table>\n</div>", 
                        "text/plain": "  PostalCode           Borough                       Neighborhoods\n0        M3A        North York                         [Parkwoods]\n1        M4A        North York                  [Victoria Village]\n2        M5A  Downtown Toronto         [Regent Park, Harbourfront]\n3        M6A        North York  [Lawrence Manor, Lawrence Heights]\n4        M7A      Queen's Park     [Ontario Provincial Government]"
                    }, 
                    "output_type": "execute_result"
                }
            ], 
            "source": "df = pd.DataFrame.from_dict(df_dict)\ndf = df.reindex(columns=[\"PostalCode\", \"Borough\", \"Neighborhoods\"])\ndf.head()"
        }, 
        {
            "execution_count": 119, 
            "cell_type": "code", 
            "metadata": {}, 
            "outputs": [
                {
                    "execution_count": 119, 
                    "metadata": {}, 
                    "data": {
                        "text/plain": "(103, 3)"
                    }, 
                    "output_type": "execute_result"
                }
            ], 
            "source": "df.shape"
        }, 
        {
            "execution_count": null, 
            "cell_type": "code", 
            "metadata": {}, 
            "outputs": [], 
            "source": ""
        }
    ], 
    "metadata": {
        "kernelspec": {
            "display_name": "Python 3.5", 
            "name": "python3", 
            "language": "python"
        }, 
        "language_info": {
            "mimetype": "text/x-python", 
            "nbconvert_exporter": "python", 
            "version": "3.5.5", 
            "name": "python", 
            "file_extension": ".py", 
            "pygments_lexer": "ipython3", 
            "codemirror_mode": {
                "version": 3, 
                "name": "ipython"
            }
        }
    }, 
    "nbformat": 4
}